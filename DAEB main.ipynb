import pandas as pd
import matplotlib.pyplot as plt
import seaborn as sns

# Load data from CSV
data = pd.read_csv("data.csv")

# Define countries of interest
countries = ["France", "Germany", "Italy", "Spain"]
data_filtered = data[data["Country"].isin(countries)]

# Separate legitimate and fraud customers
legitimate = data_filtered[data_filtered["Fraud"] == 0]
fraud = data_filtered[data_filtered["Fraud"] == 1]

# Function to calculate descriptive statistics by country
def describe_by_country(data, target_variable):
  """
  Calculates descriptive statistics (mean, median, standard deviation) for a target variable
  grouped by country.

  Args:
      data (pandas.DataFrame): The data to analyze.
      target_variable (str): The name of the target variable.

  Returns:
      pandas.DataFrame: A DataFrame containing descriptive statistics by country.
  """
  return data.groupby("Country")[target_variable].describe(percentiles=[0.25, 0.75])

# Analyze data
total_customers = len(data_filtered)
fraud_percentage = (len(fraud) / total_customers) * 100
print(f"Total Customers: {total_customers}")
print(f"Fraudulent Transactions: {len(fraud)} ({fraud_percentage:.2f}%)")

# Descriptive statistics by country (add more relevant features)
numerical_features = ["Amount", "Age"]  # Replace with your features
stats_by_country = describe_by_country(data_filtered, numerical_features[0])
for feature in numerical_features[1:]:
  stats_by_country = pd.concat([stats_by_country, describe_by_country(data_filtered, feature)], axis=1)

# Data visualization - Distribution of features by country (boxplots)
sns.set_style("whitegrid")
feature_to_plot = "Amount"  # Replace with your desired feature
sns.boxplot(
    x = "Country",
    y = feature_to_plot,
    showmeans=True,
    data=data_filtered
)
plt.title(f"Distribution of {feature_to_plot} by Country")
plt.xticks(rotation=45)
plt.show()

# Correlation matrix for numerical features
correlation = data_filtered[numerical_features].corr(method="spearman")  # Consider Spearman's rank correlation
sns.heatmap(correlation, annot=True, cmap="coolwarm")
plt.title("Correlation Matrix (Numerical Features)")
plt.show()

# Analyze transaction frequency and amount by day/hour (consider temporal features)
transactions_per_day = data_filtered.groupby(["Date", "Country"])["TransactionID"].count().unstack(fill_value=0)
transactions_per_day.plot(kind="area", stacked=False, figsize=(12, 6))
plt.title("Transactions per Day by Country")
plt.xlabel("Date")
plt.ylabel("Transaction Count")
plt.xticks(rotation=45)
plt.legend(title="Country", loc="upper left", bbox_to_anchor=(1, 1))
plt.show()

# Analyze distribution of transaction amounts (histograms)
sns.distplot(legitimate["Amount"], label="Legitimate", kde=True)
sns.distplot(fraud["Amount"], label="Fraud", kde=True)
plt.title("Distribution of Transaction Amounts (Legitimate vs. Fraud)")
plt.xlabel("Transaction Amount")
plt.ylabel("Density")
plt.legend()
plt.show()

# (Optional) Feature engineering (e.g., transaction amount percentiles)
data_filtered["Amount_Percentile"] = pd.qcut(data_filtered["Amount"], 10, labels=False) + 1

# Further analysis and visualizations can be added based on your data and interests
